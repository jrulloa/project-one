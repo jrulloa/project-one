{
 "cells": [
  {
   "cell_type": "code",
   "execution_count": 1,
   "id": "little-found",
   "metadata": {},
   "outputs": [],
   "source": [
    "# Dependencies and Setup\n",
    "import matplotlib.pyplot as plt\n",
    "import pandas as pd\n",
    "import numpy as np\n",
    "import requests\n",
    "import time\n",
    "from scipy.stats import linregress"
   ]
  },
  {
   "cell_type": "code",
   "execution_count": 2,
   "id": "infrared-combat",
   "metadata": {},
   "outputs": [],
   "source": [
    "states = ['MS','WV','AR','ID','AL','DE','CT','MA','NY','DC']\n",
    "\n",
    "state = []\n",
    "year =[]\n",
    "cost = []\n",
    "\n",
    "for s in states: \n",
    "    #print(c)\n",
    "#s = 'FL'\n",
    "    url =  'http://api.eia.gov/series/?api_key=0153adcb87f49b02f773e395a39ca985&series_id=SEDS.MGTXD.'+s+'.A'\n",
    "#url = 'http://api.eia.gov/series/?api_key=0153adcb87f49b02f773e395a39ca985&series_id=SEDS.MGTXD.FL.A'\n",
    "    response = requests.get(url)\n",
    "    response_json_1 = response.json()\n",
    "    for i in range(5) :\n",
    "        state.append(s)\n",
    "        year.append(response_json_1['series'][0]['data'][i][0])\n",
    "        cost.append(response_json_1['series'][0]['data'][i][1])\n",
    "        i += 1\n",
    "        "
   ]
  },
  {
   "cell_type": "code",
   "execution_count": 3,
   "id": "sacred-religion",
   "metadata": {},
   "outputs": [
    {
     "name": "stdout",
     "output_type": "stream",
     "text": [
      "['MS', 'MS', 'MS', 'MS', 'MS', 'WV', 'WV', 'WV', 'WV', 'WV', 'AR', 'AR', 'AR', 'AR', 'AR', 'ID', 'ID', 'ID', 'ID', 'ID', 'AL', 'AL', 'AL', 'AL', 'AL', 'DE', 'DE', 'DE', 'DE', 'DE', 'CT', 'CT', 'CT', 'CT', 'CT', 'MA', 'MA', 'MA', 'MA', 'MA', 'NY', 'NY', 'NY', 'NY', 'NY', 'DC', 'DC', 'DC', 'DC', 'DC']\n",
      "['2019', '2018', '2017', '2016', '2015', '2019', '2018', '2017', '2016', '2015', '2019', '2018', '2017', '2016', '2015', '2019', '2018', '2017', '2016', '2015', '2019', '2018', '2017', '2016', '2015', '2019', '2018', '2017', '2016', '2015', '2019', '2018', '2017', '2016', '2015', '2019', '2018', '2017', '2016', '2015', '2019', '2018', '2017', '2016', '2015', '2019', '2018', '2017', '2016', '2015']\n",
      "[19.03, 20.47, 18.56, 16.36, 18.23, 21.26, 22.81, 20.97, 18.84, 20.65, 19.19, 20.64, 18.72, 16.5, 18.38, 23.1, 24.2, 21.09, 18.67, 20.93, 18.97, 20.4, 18.5, 16.31, 18.17, 21.61, 22.91, 20.92, 18.32, 20.27, 21.94, 23.42, 20.99, 18.68, 20.76, 21.78, 23.06, 20.51, 18.14, 20.1, 20.97, 22.23, 20.12, 18.13, 20.47, 22.73, 24.09, 22, 19.27, 21.32]\n"
     ]
    }
   ],
   "source": [
    "print(state)\n",
    "print(year)\n",
    "print(cost)"
   ]
  },
  {
   "cell_type": "code",
   "execution_count": 4,
   "id": "urban-marking",
   "metadata": {},
   "outputs": [
    {
     "data": {
      "text/html": [
       "<div>\n",
       "<style scoped>\n",
       "    .dataframe tbody tr th:only-of-type {\n",
       "        vertical-align: middle;\n",
       "    }\n",
       "\n",
       "    .dataframe tbody tr th {\n",
       "        vertical-align: top;\n",
       "    }\n",
       "\n",
       "    .dataframe thead th {\n",
       "        text-align: right;\n",
       "    }\n",
       "</style>\n",
       "<table border=\"1\" class=\"dataframe\">\n",
       "  <thead>\n",
       "    <tr style=\"text-align: right;\">\n",
       "      <th></th>\n",
       "      <th>State</th>\n",
       "      <th>Year</th>\n",
       "      <th>Prices</th>\n",
       "    </tr>\n",
       "  </thead>\n",
       "  <tbody>\n",
       "    <tr>\n",
       "      <th>0</th>\n",
       "      <td>MS</td>\n",
       "      <td>2019</td>\n",
       "      <td>19.03</td>\n",
       "    </tr>\n",
       "    <tr>\n",
       "      <th>1</th>\n",
       "      <td>MS</td>\n",
       "      <td>2018</td>\n",
       "      <td>20.47</td>\n",
       "    </tr>\n",
       "    <tr>\n",
       "      <th>2</th>\n",
       "      <td>MS</td>\n",
       "      <td>2017</td>\n",
       "      <td>18.56</td>\n",
       "    </tr>\n",
       "    <tr>\n",
       "      <th>3</th>\n",
       "      <td>MS</td>\n",
       "      <td>2016</td>\n",
       "      <td>16.36</td>\n",
       "    </tr>\n",
       "    <tr>\n",
       "      <th>4</th>\n",
       "      <td>MS</td>\n",
       "      <td>2015</td>\n",
       "      <td>18.23</td>\n",
       "    </tr>\n",
       "  </tbody>\n",
       "</table>\n",
       "</div>"
      ],
      "text/plain": [
       "  State  Year  Prices\n",
       "0    MS  2019   19.03\n",
       "1    MS  2018   20.47\n",
       "2    MS  2017   18.56\n",
       "3    MS  2016   16.36\n",
       "4    MS  2015   18.23"
      ]
     },
     "execution_count": 4,
     "metadata": {},
     "output_type": "execute_result"
    }
   ],
   "source": [
    "gas_cost_df = pd.DataFrame({\n",
    "    'State': state,\n",
    "    'Year': year,\n",
    "    'Prices':cost\n",
    "})\n",
    "\n",
    "gas_cost_df.head()"
   ]
  },
  {
   "cell_type": "code",
   "execution_count": 5,
   "id": "disturbed-favorite",
   "metadata": {},
   "outputs": [
    {
     "data": {
      "text/html": [
       "<div>\n",
       "<style scoped>\n",
       "    .dataframe tbody tr th:only-of-type {\n",
       "        vertical-align: middle;\n",
       "    }\n",
       "\n",
       "    .dataframe tbody tr th {\n",
       "        vertical-align: top;\n",
       "    }\n",
       "\n",
       "    .dataframe thead th {\n",
       "        text-align: right;\n",
       "    }\n",
       "</style>\n",
       "<table border=\"1\" class=\"dataframe\">\n",
       "  <thead>\n",
       "    <tr style=\"text-align: right;\">\n",
       "      <th></th>\n",
       "      <th>State</th>\n",
       "      <th>Year</th>\n",
       "      <th>Prices</th>\n",
       "      <th>Price per gallon</th>\n",
       "    </tr>\n",
       "  </thead>\n",
       "  <tbody>\n",
       "    <tr>\n",
       "      <th>0</th>\n",
       "      <td>MS</td>\n",
       "      <td>2019</td>\n",
       "      <td>19.03</td>\n",
       "      <td>2.209193</td>\n",
       "    </tr>\n",
       "    <tr>\n",
       "      <th>1</th>\n",
       "      <td>MS</td>\n",
       "      <td>2018</td>\n",
       "      <td>20.47</td>\n",
       "      <td>2.376362</td>\n",
       "    </tr>\n",
       "    <tr>\n",
       "      <th>2</th>\n",
       "      <td>MS</td>\n",
       "      <td>2017</td>\n",
       "      <td>18.56</td>\n",
       "      <td>2.154630</td>\n",
       "    </tr>\n",
       "    <tr>\n",
       "      <th>3</th>\n",
       "      <td>MS</td>\n",
       "      <td>2016</td>\n",
       "      <td>16.36</td>\n",
       "      <td>1.899232</td>\n",
       "    </tr>\n",
       "    <tr>\n",
       "      <th>4</th>\n",
       "      <td>MS</td>\n",
       "      <td>2015</td>\n",
       "      <td>18.23</td>\n",
       "      <td>2.116321</td>\n",
       "    </tr>\n",
       "  </tbody>\n",
       "</table>\n",
       "</div>"
      ],
      "text/plain": [
       "  State  Year  Prices  Price per gallon\n",
       "0    MS  2019   19.03          2.209193\n",
       "1    MS  2018   20.47          2.376362\n",
       "2    MS  2017   18.56          2.154630\n",
       "3    MS  2016   16.36          1.899232\n",
       "4    MS  2015   18.23          2.116321"
      ]
     },
     "execution_count": 5,
     "metadata": {},
     "output_type": "execute_result"
    }
   ],
   "source": [
    "#prices are per million BTU and 1 Gallon has 116,090 BTUs\n",
    "\n",
    "gas_cost_df['Price per gallon'] =  gas_cost_df['Prices']/1000000*116090\n",
    "\n",
    "gas_cost_df.head()\n"
   ]
  }
 ],
 "metadata": {
  "kernelspec": {
   "display_name": "Python 3",
   "language": "python",
   "name": "python3"
  },
  "language_info": {
   "codemirror_mode": {
    "name": "ipython",
    "version": 3
   },
   "file_extension": ".py",
   "mimetype": "text/x-python",
   "name": "python",
   "nbconvert_exporter": "python",
   "pygments_lexer": "ipython3",
   "version": "3.6.10"
  }
 },
 "nbformat": 4,
 "nbformat_minor": 5
}
