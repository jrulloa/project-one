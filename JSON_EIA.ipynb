{
 "cells": [
  {
   "cell_type": "code",
   "execution_count": 3,
   "id": "little-found",
   "metadata": {},
   "outputs": [],
   "source": [
    "# Dependencies and Setup\n",
    "import matplotlib.pyplot as plt\n",
    "import pandas as pd\n",
    "import numpy as np\n",
    "import requests\n",
    "import time\n",
    "from scipy.stats import linregress"
   ]
  },
  {
   "cell_type": "code",
   "execution_count": 4,
   "id": "intense-industry",
   "metadata": {},
   "outputs": [
    {
     "name": "stdout",
     "output_type": "stream",
     "text": [
      "{'request': {'category_id': 714757, 'command': 'category'}, 'category': {'category_id': '714757', 'parent_category_id': '714755', 'name': 'Prices', 'notes': '', 'childcategories': [{'category_id': 240690, 'name': 'Weekly Retail Gasoline and Diesel Prices'}, {'category_id': 241335, 'name': 'Spot Prices'}, {'category_id': 241347, 'name': 'NYMEX Futures Prices'}, {'category_id': 241368, 'name': 'Weekly Heating Oil and Propane Prices (October - March)'}, {'category_id': 241528, 'name': 'Refiner Gasoline Prices by Grade and Sales Type'}, {'category_id': 243091, 'name': 'U.S. Refiner Gasoline Prices by Formulation, Grade, Sales Type'}, {'category_id': 243458, 'name': 'Refiner Petroleum Product Prices by Sales Type'}, {'category_id': 245142, 'name': 'Gasoline Prices by Formulation, Grade, Sales Type'}, {'category_id': 291424, 'name': 'No. 2 Distillate Prices by Sales Type'}, {'category_id': 292654, 'name': 'Propane (Consumer Grade) Prices by Sales Type'}, {'category_id': 292818, 'name': 'Residual Fuel Oil Prices by Sales Type'}, {'category_id': 293607, 'name': 'Domestic Crude Oil First Purchase Prices by Area'}, {'category_id': 293643, 'name': 'Domestic Crude Oil First Purchase Prices for Selected Crude Streams'}, {'category_id': 293653, 'name': 'Domestic Crude Oil First Purchase Prices by API Gravity'}, {'category_id': 293660, 'name': 'Refiner Acquisition Cost of Crude Oil'}, {'category_id': 293708, 'name': 'F.O.B. Costs of Imported Crude Oil by Area'}, {'category_id': 293720, 'name': 'F.O.B. Costs of Imported Crude Oil for Selected Crude Streams'}, {'category_id': 293735, 'name': 'F.O.B. Costs of Imported Crude Oil by API Gravity'}, {'category_id': 293743, 'name': 'Landed Costs of Imported Crude by Area'}, {'category_id': 293756, 'name': 'Landed Costs of Imported Crude for Selected Crude Streams'}, {'category_id': 293779, 'name': 'Landed Costs of Imported Crude by API Gravity'}, {'category_id': 293787, 'name': 'Percentages of Total Imported Crude Oil by API Gravity'}], 'childseries': []}}\n"
     ]
    }
   ],
   "source": [
    "url = \"http://api.eia.gov/category/?api_key=0153adcb87f49b02f773e395a39ca985&category_id=714757\"\n",
    "response = requests.get(url)\n",
    "response_json = response.json()\n",
    "    \n",
    "first_json = True\n",
    "#Checking data_1\n",
    "if first_json:\n",
    "    print(response_json)\n",
    "    first_json = False    "
   ]
  }
 ],
 "metadata": {
  "kernelspec": {
   "display_name": "Python 3",
   "language": "python",
   "name": "python3"
  },
  "language_info": {
   "codemirror_mode": {
    "name": "ipython",
    "version": 3
   },
   "file_extension": ".py",
   "mimetype": "text/x-python",
   "name": "python",
   "nbconvert_exporter": "python",
   "pygments_lexer": "ipython3",
   "version": "3.6.10"
  }
 },
 "nbformat": 4,
 "nbformat_minor": 5
}
